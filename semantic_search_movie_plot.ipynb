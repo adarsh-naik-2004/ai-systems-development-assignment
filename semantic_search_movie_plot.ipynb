{
  "nbformat": 4,
  "nbformat_minor": 0,
  "metadata": {
    "colab": {
      "provenance": []
    },
    "kernelspec": {
      "name": "python3",
      "display_name": "Python 3"
    },
    "language_info": {
      "name": "python"
    }
  },
  "cells": [
    {
      "cell_type": "code",
      "execution_count": null,
      "metadata": {
        "id": "8zbZiqC3bUpC"
      },
      "outputs": [],
      "source": [
        "# Movie Semantic Search Engine\n",
        "\n",
        "# This notebook demonstrates the use of a semantic search function to find movies based on plot descriptions. It imports the core logic from the `movie_search.py` module and tests it with a sample query. This fulfills the assignment requirement to complete a notebook explaining the solution."
      ]
    },
    {
      "cell_type": "code",
      "source": [
        "# Import the search function from our Python module and pandas for display.\n",
        "from movie_search import search_movies\n",
        "import pandas as pd\n",
        "\n",
        "# This setting ensures we can see the full plot text in the output.\n",
        "pd.set_option('display.max_colwidth', None)\n",
        "\n",
        "# NOTE FOR COLAB USERS:\n",
        "# You must upload your 'movies.csv' file to the Colab session.\n",
        "# Click the folder icon on the left, then click the \"Upload to session storage\" button."
      ],
      "metadata": {
        "id": "VQhXGsJvbwQf"
      },
      "execution_count": null,
      "outputs": []
    },
    {
      "cell_type": "code",
      "source": [
        "### Running a Test Search\n",
        "\n",
        "# Now, we will test the search function with the query 'spy thriller in Paris' as specified in the assignment instructions. We are looking for the top 5 most relevant movies."
      ],
      "metadata": {
        "id": "rP3GBvUobyzj"
      },
      "execution_count": null,
      "outputs": []
    },
    {
      "cell_type": "code",
      "source": [
        "# Define the search query and the number of results to fetch.\n",
        "my_query = 'spy thriller in Paris'\n",
        "num_results = 5\n",
        "\n",
        "# Call the search function to get the results.\n",
        "print(f\"Searching for the top {num_results} movies similar to: '{my_query}'...\")\n",
        "results = search_movies(my_query, top_n=num_results)\n",
        "\n",
        "# Display the results DataFrame.\n",
        "results"
      ],
      "metadata": {
        "id": "yPiO6sUEb3eH"
      },
      "execution_count": null,
      "outputs": []
    }
  ]
}